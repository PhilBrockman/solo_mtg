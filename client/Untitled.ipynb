{
 "cells": [
  {
   "cell_type": "code",
   "execution_count": null,
   "metadata": {},
   "outputs": [],
   "source": [
    "\tGalerider Sliver\t\t$ 20.71\n",
    "20\tMetallic Sliver\t\t$ 6.00\n",
    "1\tSidewinder Sliver\t\t$ 0.30\n",
    "1\tCrystalline Sliver\t \t$ 6.89\n",
    "1\tDiffusion Sliver\t \t$ 1.82\n",
    "2\tFrenzy Sliver\t \t$ 0.60\n",
    "5\tGhostflame Sliver\t \t$ 2.65\n",
    "3\tLeeching Sliver\t \t$ 5.19\n",
    "4\tMuscle Sliver\t \t$ 4.00\n",
    "4\tPredatory Sliver\t \t$ 2.80\n",
    "2\tSentinel Sliver\t \t$ 1.58\n",
    "4\tSinew Sliver\t \t$ 1.52\n",
    "2\tSpined Sliver\t \t$ 0.96\n",
    "2\tTwo-Headed Sliver\t \t$ 0.50\n",
    "1\tVenom Sliver\t \t$ 2.31\n",
    "1\tWinged Sliver\t \t$ 0.76\n",
    "2\tBelligerent Sliver\t \t$ 1.30\n",
    "2\tBlur Sliver\t \t$ 0.68\n",
    "2\tFirewake Sliver\t  \t$ 0.60\n",
    "1\tShadow Sliver\t \t$ 0.99\n",
    "20\tSliver Construct\t\t$ 5.20\n",
    "2\tSteelform Sliver\t \t$ 0.68\n",
    "1\tBonescythe Sliver\t \t$ 10.99\n",
    "1\tFungus Sliver\t \t$ 0.50\n",
    "2\tVampiric Sliver\t \t$ 1.10\n",
    "3\tWatcher Sliver\t \t$ 0.66\n",
    "1\tBattle Sliver\t \t$ 0.50\n",
    "1\tBrood Sliver\t \t$ 25.48\n",
    "1\tSliver Hivelord\t    \t$ 39.00\n",
    "2\tSpitting Sliver\t \t$ 0.50\n",
    "2\tBattering Sliver\t \t$ 0.44\n",
    "1\tFury Sliver\t \t$ 0.28\n",
    "1\tMegantic Sliver\t \t$ 1.53\n",
    "Spells (20)\n",
    "20\tHive Stirrings"
   ]
  }
 ],
 "metadata": {
  "kernelspec": {
   "display_name": "Python 3",
   "language": "python",
   "name": "python3"
  },
  "language_info": {
   "codemirror_mode": {
    "name": "ipython",
    "version": 3
   },
   "file_extension": ".py",
   "mimetype": "text/x-python",
   "name": "python",
   "nbconvert_exporter": "python",
   "pygments_lexer": "ipython3",
   "version": "3.8.5"
  }
 },
 "nbformat": 4,
 "nbformat_minor": 4
}
