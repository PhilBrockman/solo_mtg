{
 "cells": [
  {
   "cell_type": "code",
   "execution_count": 1,
   "metadata": {},
   "outputs": [],
   "source": [
    "starter_deck = \"\"\"1 Yixlid Jailer\n",
    "2 Vengeful Dead\n",
    "4 Cackling Fiend\n",
    "2 Infectious Horror\n",
    "2 Severed Legion\n",
    "1 Abattoir Ghoul\n",
    "2 Nested Ghoul\n",
    "1 Fleshbag Marauder\n",
    "1 Gluttonous Zombie\n",
    "1 Death Baron\n",
    "1 Brain Gorgers\n",
    "1 Soulless One\n",
    "1 Unbreathing Horde\n",
    "1 Waning Wurm\n",
    "1 Hollow Dogs\n",
    "1 Undead Warchief\n",
    "Sorcery (8)\n",
    "1 Damnation\n",
    "1 Festering March\n",
    "1 Smallpox\n",
    "1 Syphon Mind\n",
    "1 Army of the Damned\n",
    "1 Twilight's Call\n",
    "2 Delirium Skeins\n",
    "Enchantment (9)\n",
    "2 Bad Moon\n",
    "3 Grave Peril\n",
    "2 Endless Ranks of the Dead\n",
    "1 Forsaken Wastes\n",
    "1 Call to the Grave\n",
    "Other (60)\n",
    "55 Zombie Tokens\n",
    "5 Zombie Giant Tokens\"\"\""
   ]
  },
  {
   "cell_type": "code",
   "execution_count": 2,
   "metadata": {},
   "outputs": [],
   "source": [
    "deck = starter_deck.split(\"\\n\")"
   ]
  },
  {
   "cell_type": "code",
   "execution_count": 3,
   "metadata": {},
   "outputs": [],
   "source": [
    "import re\n",
    "\n",
    "def keep(line):\n",
    "  if re.match(\"^\\D+ .*\", line) is not None:\n",
    "    return False\n",
    "  return True"
   ]
  },
  {
   "cell_type": "code",
   "execution_count": 6,
   "metadata": {
    "scrolled": false
   },
   "outputs": [
    {
     "name": "stdout",
     "output_type": "stream",
     "text": [
      "1 Yixlid Jailer\n",
      "2 Vengeful Dead\n",
      "4 Cackling Fiend\n",
      "2 Infectious Horror\n",
      "2 Severed Legion\n",
      "1 Abattoir Ghoul\n",
      "2 Nested Ghoul\n",
      "1 Fleshbag Marauder\n",
      "1 Gluttonous Zombie\n",
      "1 Death Baron\n",
      "1 Brain Gorgers\n",
      "1 Soulless One\n",
      "1 Unbreathing Horde\n",
      "1 Waning Wurm\n",
      "1 Hollow Dogs\n",
      "1 Undead Warchief\n",
      "1 Damnation\n",
      "1 Festering March\n",
      "1 Smallpox\n",
      "1 Syphon Mind\n",
      "1 Army of the Damned\n",
      "1 Twilight's Call\n",
      "2 Delirium Skeins\n",
      "2 Bad Moon\n",
      "3 Grave Peril\n",
      "2 Endless Ranks of the Dead\n",
      "1 Forsaken Wastes\n",
      "1 Call to the Grave\n",
      "55 Zombie Tokens\n",
      "5 Zombie Giant Tokens\n"
     ]
    }
   ],
   "source": [
    "final = [x for x in deck if keep(x)]\n",
    "print(\"\\n\".join(final))"
   ]
  },
  {
   "cell_type": "code",
   "execution_count": null,
   "metadata": {},
   "outputs": [],
   "source": []
  },
  {
   "cell_type": "code",
   "execution_count": 53,
   "metadata": {},
   "outputs": [],
   "source": [
    "def to_json(line):\n",
    "  tmp = {}\n",
    "  tmp[\"name\"] = \" \".join(line.split(\" \")[1:])\n",
    "  tmp[\"quantity\"] = int(line.split(\" \")[0])\n",
    "  tmp[\"token\"] = \"token\" in line.lower()\n",
    "  return tmp"
   ]
  },
  {
   "cell_type": "code",
   "execution_count": 75,
   "metadata": {},
   "outputs": [
    {
     "name": "stdout",
     "output_type": "stream",
     "text": [
      "{\"name\": \"Yixlid Jailer\", \"quantity\": 1, \"token\": false} ,\n",
      "{\"name\": \"Vengeful Dead\", \"quantity\": 2, \"token\": false} ,\n",
      "{\"name\": \"Cackling Fiend\", \"quantity\": 4, \"token\": false} ,\n",
      "{\"name\": \"Infectious Horror\", \"quantity\": 2, \"token\": false} ,\n",
      "{\"name\": \"Severed Legion\", \"quantity\": 2, \"token\": false} ,\n",
      "{\"name\": \"Abattoir Ghoul\", \"quantity\": 1, \"token\": false} ,\n",
      "{\"name\": \"Nested Ghoul\", \"quantity\": 2, \"token\": false} ,\n",
      "{\"name\": \"Fleshbag Marauder\", \"quantity\": 1, \"token\": false} ,\n",
      "{\"name\": \"Gluttonous Zombie\", \"quantity\": 1, \"token\": false} ,\n",
      "{\"name\": \"Death Baron\", \"quantity\": 1, \"token\": false} ,\n",
      "{\"name\": \"Brain Gorgers\", \"quantity\": 1, \"token\": false} ,\n",
      "{\"name\": \"Soulless One\", \"quantity\": 1, \"token\": false} ,\n",
      "{\"name\": \"Unbreathing Horde\", \"quantity\": 1, \"token\": false} ,\n",
      "{\"name\": \"Waning Wurm\", \"quantity\": 1, \"token\": false} ,\n",
      "{\"name\": \"Hollow Dogs\", \"quantity\": 1, \"token\": false} ,\n",
      "{\"name\": \"Undead Warchief\", \"quantity\": 1, \"token\": false} ,\n",
      "{\"name\": \"Damnation\", \"quantity\": 1, \"token\": false} ,\n",
      "{\"name\": \"Festering March\", \"quantity\": 1, \"token\": false} ,\n",
      "{\"name\": \"Smallpox\", \"quantity\": 1, \"token\": false} ,\n",
      "{\"name\": \"Syphon Mind\", \"quantity\": 1, \"token\": false} ,\n",
      "{\"name\": \"Army of the Damned\", \"quantity\": 1, \"token\": false} ,\n",
      "{\"name\": \"Twilight\"s Call\", \"quantity\": 1, \"token\": false} ,\n",
      "{\"name\": \"Delirium Skeins\", \"quantity\": 2, \"token\": false} ,\n",
      "{\"name\": \"Bad Moon\", \"quantity\": 2, \"token\": false} ,\n",
      "{\"name\": \"Grave Peril\", \"quantity\": 3, \"token\": false} ,\n",
      "{\"name\": \"Endless Ranks of the Dead\", \"quantity\": 2, \"token\": false} ,\n",
      "{\"name\": \"Forsaken Wastes\", \"quantity\": 1, \"token\": false} ,\n",
      "{\"name\": \"Call to the Grave\", \"quantity\": 1, \"token\": false} ,\n",
      "{\"name\": \"Zombie Tokens\", \"quantity\": 55, \"token\": true} ,\n",
      "{\"name\": \"Zombie Giant Tokens\", \"quantity\": 5, \"token\": true} ,\n"
     ]
    }
   ],
   "source": [
    "for x in final:\n",
    "  update = to_json(x).__str__().replace(\"'\", '\"')\n",
    "  for b in [\"True\", \"False\"]:\n",
    "    update = update.replace(f\": {b}\", f\": {b.lower()}\")\n",
    "  print(update, \",\")"
   ]
  },
  {
   "cell_type": "code",
   "execution_count": 70,
   "metadata": {},
   "outputs": [
    {
     "data": {
      "text/plain": [
       "'{\"name\": \"Call to the Grave\", \"quantity\": 1, \"token\": False}'"
      ]
     },
     "execution_count": 70,
     "metadata": {},
     "output_type": "execute_result"
    }
   ],
   "source": []
  },
  {
   "cell_type": "code",
   "execution_count": null,
   "metadata": {},
   "outputs": [],
   "source": []
  }
 ],
 "metadata": {
  "kernelspec": {
   "display_name": "Python 3",
   "language": "python",
   "name": "python3"
  },
  "language_info": {
   "codemirror_mode": {
    "name": "ipython",
    "version": 3
   },
   "file_extension": ".py",
   "mimetype": "text/x-python",
   "name": "python",
   "nbconvert_exporter": "python",
   "pygments_lexer": "ipython3",
   "version": "3.8.5"
  }
 },
 "nbformat": 4,
 "nbformat_minor": 4
}
